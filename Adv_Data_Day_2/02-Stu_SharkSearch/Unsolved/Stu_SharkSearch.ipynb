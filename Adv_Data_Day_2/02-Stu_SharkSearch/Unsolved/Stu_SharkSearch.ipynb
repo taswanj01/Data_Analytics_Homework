{
 "cells": [
  {
   "cell_type": "code",
   "execution_count": 12,
   "metadata": {},
   "outputs": [],
   "source": [
    "from sqlalchemy import create_engine\n",
    "\n",
    "from sqlalchemy.ext.declarative import declarative_base\n",
    "Base = declarative_base()\n",
    "from sqlalchemy import Column, Integer, String, Float\n",
    "\n",
    "from sqlalchemy import create_engine"
   ]
  },
  {
   "cell_type": "code",
   "execution_count": 13,
   "metadata": {},
   "outputs": [],
   "source": [
    "from sqlalchemy import create_engine\n",
    "database_path = \"../Resources/sharks.sqlite\"\n",
    "engine = create_engine(f\"sqlite:///{database_path}\")\n",
    "Base.metadata.create_all(engine)"
   ]
  },
  {
   "cell_type": "code",
   "execution_count": 14,
   "metadata": {},
   "outputs": [],
   "source": [
    "from sqlalchemy.orm import Session\n",
    "session = Session(bind=engine)"
   ]
  },
  {
   "cell_type": "code",
   "execution_count": 15,
   "metadata": {
    "deletable": false,
    "nbgrader": {
     "checksum": "272368b77cc71254fcd63d37c986090e",
     "grade": false,
     "grade_id": "cell-c57d66be4b87f3dc",
     "locked": false,
     "schema_version": 1,
     "solution": true
    }
   },
   "outputs": [],
   "source": [
    "# create your shark class\n",
    "class Sharks(Base):\n",
    "    __tablename__ = 'sharks'\n",
    "    __table_args__ = {'extend_existing': True}\n",
    "    id = Column(Integer, primary_key=True)\n",
    "    case_number = Column(String)\n",
    "    date = Column(String)\n",
    "    year = Column(Integer)\n",
    "    type = Column(Integer)\n",
    "    country = Column(String)\n",
    "    location = Column(String)"
   ]
  },
  {
   "cell_type": "code",
   "execution_count": 22,
   "metadata": {
    "deletable": false,
    "nbgrader": {
     "checksum": "827e8537e30fd84c706b14b2040fccf2",
     "grade": false,
     "grade_id": "cell-48e2a351e977f8b6",
     "locked": false,
     "schema_version": 1,
     "solution": true
    }
   },
   "outputs": [
    {
     "name": "stdout",
     "output_type": "stream",
     "text": [
      "[{'_sa_instance_state': <sqlalchemy.orm.state.InstanceState object at 0x000000000558E4A8>, 'location': 'Point Casuarina, Bunbury', 'type': 'Unprovoked', 'date': '11-Jun-17', 'case_number': '2017.06.11', 'country': 'AUSTRALIA', 'year': '2017', 'id': ''}, {'_sa_instance_state': <sqlalchemy.orm.state.InstanceState object at 0x000000000558E5C0>, 'location': \"Bateman's Bay\", 'type': 'Unprovoked', 'date': '19-Mar-09', 'case_number': '2009.03.19.a', 'country': 'AUSTRALIA', 'year': '2009', 'id': '0'}, {'_sa_instance_state': <sqlalchemy.orm.state.InstanceState object at 0x000000000558E908>, 'location': 'Ponce Inlet, Volusia County', 'type': 'Unprovoked', 'date': '18-Mar-09', 'case_number': '2009.03.18.a', 'country': 'USA', 'year': '2009', 'id': '1'}, {'_sa_instance_state': <sqlalchemy.orm.state.InstanceState object at 0x000000000558E0B8>, 'location': 'Pulau Payar Island', 'type': 'Unprovoked', 'date': '17-Mar-09', 'case_number': '2009.03.17.R', 'country': 'MALAYSIA', 'year': '2009', 'id': '2'}, {'_sa_instance_state': <sqlalchemy.orm.state.InstanceState object at 0x000000000558E630>, 'location': 'Alenuihaha Channel', 'type': 'Unprovoked', 'date': '17-Mar-09', 'case_number': '2009.03.17', 'country': 'USA', 'year': '2009', 'id': '3'}, {'_sa_instance_state': <sqlalchemy.orm.state.InstanceState object at 0x000000000558E0F0>, 'location': 'The Natural Jetty, Rottnest Island', 'type': 'Provoked', 'date': '16-Mar-09', 'case_number': '2009.03.16.R', 'country': 'AUSTRALIA', 'year': '2009', 'id': '4'}, {'_sa_instance_state': <sqlalchemy.orm.state.InstanceState object at 0x000000000558E128>, 'location': 'Near Albany', 'type': 'Boat', 'date': '28-Jul-16', 'case_number': '2016.07.28', 'country': 'AUSTRALIA', 'year': '2016', 'id': '5'}, {'_sa_instance_state': <sqlalchemy.orm.state.InstanceState object at 0x000000000558E2B0>, 'location': 'Bourail', 'type': 'Unprovoked', 'date': '6-Mar-09', 'case_number': '2009.03.06', 'country': 'NEW CALEDONIA', 'year': '2009', 'id': '6'}, {'_sa_instance_state': <sqlalchemy.orm.state.InstanceState object at 0x000000000558E1D0>, 'location': 'Off Cape Point', 'type': 'Provoked', 'date': '2-Mar-09', 'case_number': '2009.03.02', 'country': 'SOUTH AFRICA', 'year': '2009', 'id': '7'}, {'_sa_instance_state': <sqlalchemy.orm.state.InstanceState object at 0x000000000558E6A0>, 'location': 'Taranaki', 'type': 'Boat', 'date': '1-Mar-09', 'case_number': '2009.03.01.b', 'country': 'NEW ZEALAND', 'year': '2009', 'id': '8'}, {'_sa_instance_state': <sqlalchemy.orm.state.InstanceState object at 0x000000000558E710>, 'location': 'Avalon', 'type': 'Unprovoked', 'date': '1-Mar-09', 'case_number': '2009.03.01.a', 'country': 'AUSTRALIA', 'year': '2009', 'id': '9'}, {'_sa_instance_state': <sqlalchemy.orm.state.InstanceState object at 0x000000000558B240>, 'location': 'Honokowai, Maui', 'type': 'Unprovoked', 'date': '26-Jul-08', 'case_number': '2008.07.26.a', 'country': 'USA', 'year': '2008', 'id': '00'}]\n"
     ]
    }
   ],
   "source": [
    "# print all locations of shark attacks\n",
    "attacks = session.query(Sharks)\n",
    "# for attack in attacks:\n",
    "#     print(attack.location)\n",
    "\n",
    "print(list([_.__dict__ for _ in session.query(Sharks)]))"
   ]
  },
  {
   "cell_type": "code",
   "execution_count": null,
   "metadata": {
    "deletable": false,
    "nbgrader": {
     "checksum": "5da00f78964b8a2627e7955872b79cf2",
     "grade": false,
     "grade_id": "cell-33b12ba730e08a42",
     "locked": false,
     "schema_version": 1,
     "solution": true
    }
   },
   "outputs": [],
   "source": [
    "# find the number of provoked attacks\n",
    "session.query(Sharks).filter_by(type='')\n",
    "session.query(Sharks).filter(Sharks.type == '')"
   ]
  },
  {
   "cell_type": "code",
   "execution_count": null,
   "metadata": {
    "deletable": false,
    "nbgrader": {
     "checksum": "625cca75f2e3869d61a4d1bb6aaa862d",
     "grade": false,
     "grade_id": "cell-4b1293d38480400d",
     "locked": false,
     "schema_version": 1,
     "solution": true
    }
   },
   "outputs": [],
   "source": [
    "# find the number of attacks in USA\n",
    "# YOUR CODE HERE"
   ]
  },
  {
   "cell_type": "code",
   "execution_count": null,
   "metadata": {
    "deletable": false,
    "nbgrader": {
     "checksum": "5c44b8a34de6f5090552b1efa1c4d58e",
     "grade": false,
     "grade_id": "cell-5431c1fabaae9ed8",
     "locked": false,
     "schema_version": 1,
     "solution": true
    }
   },
   "outputs": [],
   "source": [
    "# find the number of attacks in 2017\n",
    "# YOUR CODE HERE"
   ]
  },
  {
   "cell_type": "code",
   "execution_count": null,
   "metadata": {
    "deletable": false,
    "nbgrader": {
     "checksum": "6fb8eae592cf139c082c6f77d42e00aa",
     "grade": false,
     "grade_id": "cell-4de2402e47fe0214",
     "locked": false,
     "schema_version": 1,
     "solution": true
    }
   },
   "outputs": [],
   "source": [
    "# find the number of attacks while surfing\n",
    "# YOUR CODE HERE"
   ]
  },
  {
   "cell_type": "code",
   "execution_count": null,
   "metadata": {
    "deletable": false,
    "nbgrader": {
     "checksum": "ac16e312f24b2a48fba9a384e600676f",
     "grade": false,
     "grade_id": "cell-9e2afa5b2f869a4f",
     "locked": false,
     "schema_version": 1,
     "solution": true
    }
   },
   "outputs": [],
   "source": [
    "# find the number of fatal attacks\n",
    "# YOUR CODE HERE"
   ]
  },
  {
   "cell_type": "code",
   "execution_count": null,
   "metadata": {
    "deletable": false,
    "nbgrader": {
     "checksum": "099a489efed7a5379e3b22a0997c9465",
     "grade": false,
     "grade_id": "cell-75819f28900a2e54",
     "locked": false,
     "schema_version": 1,
     "solution": true
    }
   },
   "outputs": [],
   "source": [
    "# find the number of fatal attacks while surfing\n",
    "# YOUR CODE HERE"
   ]
  },
  {
   "cell_type": "code",
   "execution_count": null,
   "metadata": {
    "deletable": false,
    "nbgrader": {
     "checksum": "7e93397023f1706df0f8bec0a433137b",
     "grade": false,
     "grade_id": "cell-ef68003cff255319",
     "locked": false,
     "schema_version": 1,
     "solution": true
    }
   },
   "outputs": [],
   "source": [
    "# find the number of fatal attacks in 2017 in Australia\n",
    "# YOUR CODE HERE"
   ]
  }
 ],
 "metadata": {
  "kernelspec": {
   "display_name": "Python 3",
   "language": "python",
   "name": "python3"
  },
  "language_info": {
   "codemirror_mode": {
    "name": "ipython",
    "version": 3
   },
   "file_extension": ".py",
   "mimetype": "text/x-python",
   "name": "python",
   "nbconvert_exporter": "python",
   "pygments_lexer": "ipython3",
   "version": "3.7.1"
  },
  "varInspector": {
   "cols": {
    "lenName": 16,
    "lenType": 16,
    "lenVar": 40
   },
   "kernels_config": {
    "python": {
     "delete_cmd_postfix": "",
     "delete_cmd_prefix": "del ",
     "library": "var_list.py",
     "varRefreshCmd": "print(var_dic_list())"
    },
    "r": {
     "delete_cmd_postfix": ") ",
     "delete_cmd_prefix": "rm(",
     "library": "var_list.r",
     "varRefreshCmd": "cat(var_dic_list()) "
    }
   },
   "types_to_exclude": [
    "module",
    "function",
    "builtin_function_or_method",
    "instance",
    "_Feature"
   ],
   "window_display": false
  }
 },
 "nbformat": 4,
 "nbformat_minor": 2
}
