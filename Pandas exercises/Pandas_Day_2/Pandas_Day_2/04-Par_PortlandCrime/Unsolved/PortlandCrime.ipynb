{
 "cells": [
  {
   "cell_type": "code",
   "execution_count": 16,
   "metadata": {},
   "outputs": [],
   "source": [
    "# Import Dependencies\n",
    "import pandas as pd"
   ]
  },
  {
   "cell_type": "code",
   "execution_count": 17,
   "metadata": {},
   "outputs": [],
   "source": [
    "# Reference the file where the CSV is located\n",
    "\n",
    "# Import the data into a Pandas DataFrame\n",
    "crime_df = pd.read_csv('Resources/crime_incident_data2017.csv')\n",
    "crime_df.head(10)"
   ]
  },
  {
   "cell_type": "code",
   "execution_count": 28,
   "metadata": {},
   "outputs": [
    {
     "data": {
      "text/plain": [
       "Address              37365\n",
       "Case Number          41032\n",
       "Crime Against        41032\n",
       "Neighborhood         39712\n",
       "Number of Records    41032\n",
       "Occur Date           41032\n",
       "Occur Month Year     41032\n",
       "Occur Time           41032\n",
       "Offense Category     41032\n",
       "Offense Count        41032\n",
       "Offense Type         41032\n",
       "Open Data Lat        36712\n",
       "Open Data Lon        36712\n",
       "Open Data X          36712\n",
       "Open Data Y          36712\n",
       "Report Date          41032\n",
       "Report Month Year    41032\n",
       "dtype: int64"
      ]
     },
     "execution_count": 28,
     "metadata": {},
     "output_type": "execute_result"
    }
   ],
   "source": [
    "# look for missing value\n",
    "crime_df.count()"
   ]
  },
  {
   "cell_type": "code",
   "execution_count": 29,
   "metadata": {},
   "outputs": [],
   "source": [
    "# drop null rows\n",
    "crime_df_dropnas = crime_df.dropna(how='any')"
   ]
  },
  {
   "cell_type": "code",
   "execution_count": 31,
   "metadata": {},
   "outputs": [
    {
     "data": {
      "text/plain": [
       "Address              36146\n",
       "Case Number          36146\n",
       "Crime Against        36146\n",
       "Neighborhood         36146\n",
       "Number of Records    36146\n",
       "Occur Date           36146\n",
       "Occur Month Year     36146\n",
       "Occur Time           36146\n",
       "Offense Category     36146\n",
       "Offense Count        36146\n",
       "Offense Type         36146\n",
       "Open Data Lat        36146\n",
       "Open Data Lon        36146\n",
       "Open Data X          36146\n",
       "Open Data Y          36146\n",
       "Report Date          36146\n",
       "Report Month Year    36146\n",
       "dtype: int64"
      ]
     },
     "execution_count": 31,
     "metadata": {},
     "output_type": "execute_result"
    }
   ],
   "source": [
    "# verify counts\n",
    "crime_df_dropnas.count()"
   ]
  },
  {
   "cell_type": "code",
   "execution_count": 35,
   "metadata": {
    "scrolled": true
   },
   "outputs": [
    {
     "data": {
      "text/plain": [
       "<bound method IndexOpsMixin.value_counts of 2            False Pretenses/Swindle/Confidence Game\n",
       "5                                     Identity Theft\n",
       "6            False Pretenses/Swindle/Confidence Game\n",
       "7                                     Identity Theft\n",
       "8                              Credit Card/ATM Fraud\n",
       "9                                     Identity Theft\n",
       "10                                    Identity Theft\n",
       "11                                    Identity Theft\n",
       "12                                      Embezzlement\n",
       "15                                    Identity Theft\n",
       "16                                       Shoplifting\n",
       "17                                 All Other Larceny\n",
       "18                                 All Other Larceny\n",
       "19                                    Identity Theft\n",
       "20                                    Identity Theft\n",
       "21                          Theft From Motor Vehicle\n",
       "22                          Theft From Motor Vehicle\n",
       "23                                 All Other Larceny\n",
       "24                             Credit Card/ATM Fraud\n",
       "25                                    Identity Theft\n",
       "26           False Pretenses/Swindle/Confidence Game\n",
       "27                                    Identity Theft\n",
       "30                                    Identity Theft\n",
       "31                          Theft From Motor Vehicle\n",
       "32                          Theft From Motor Vehicle\n",
       "33                               Motor Vehicle Theft\n",
       "34                                          Burglary\n",
       "35                          Theft From Motor Vehicle\n",
       "36       Theft of Motor Vehicle Parts or Accessories\n",
       "37                               Motor Vehicle Theft\n",
       "                            ...                     \n",
       "41001                            Motor Vehicle Theft\n",
       "41002                            Motor Vehicle Theft\n",
       "41003                            Motor Vehicle Theft\n",
       "41004                            Motor Vehicle Theft\n",
       "41005                            Motor Vehicle Theft\n",
       "41006                            Motor Vehicle Theft\n",
       "41007                            Motor Vehicle Theft\n",
       "41008                            Motor Vehicle Theft\n",
       "41009                                        Robbery\n",
       "41010                                        Robbery\n",
       "41011                                      Vandalism\n",
       "41012                                      Vandalism\n",
       "41013                                      Vandalism\n",
       "41014                                      Vandalism\n",
       "41015                                      Vandalism\n",
       "41016                                      Vandalism\n",
       "41017                                      Vandalism\n",
       "41018                                      Vandalism\n",
       "41019                                      Vandalism\n",
       "41020                                      Vandalism\n",
       "41021                                      Vandalism\n",
       "41022                                      Vandalism\n",
       "41023                       Drug/Narcotic Violations\n",
       "41024                       Drug/Narcotic Violations\n",
       "41025                       Drug/Narcotic Violations\n",
       "41026                       Drug/Narcotic Violations\n",
       "41027                       Drug/Narcotic Violations\n",
       "41028                                   Prostitution\n",
       "41029                                   Prostitution\n",
       "41031                         Weapons Law Violations\n",
       "Name: Offense Type, Length: 36146, dtype: object>"
      ]
     },
     "execution_count": 35,
     "metadata": {},
     "output_type": "execute_result"
    }
   ],
   "source": [
    "# Check to see if there are any values with mispelled or similar values in \"Offense Type\"\n",
    "crime_df_dropnas['Offense Type'].value_counts"
   ]
  },
  {
   "cell_type": "code",
   "execution_count": 22,
   "metadata": {},
   "outputs": [],
   "source": [
    "# Combine similar offenses"
   ]
  },
  {
   "cell_type": "code",
   "execution_count": 23,
   "metadata": {},
   "outputs": [],
   "source": [
    "# Create a new DataFrame that looks into a specific neighborhood"
   ]
  }
 ],
 "metadata": {
  "kernelspec": {
   "display_name": "Python 3",
   "language": "python",
   "name": "python3"
  },
  "language_info": {
   "codemirror_mode": {
    "name": "ipython",
    "version": 3
   },
   "file_extension": ".py",
   "mimetype": "text/x-python",
   "name": "python",
   "nbconvert_exporter": "python",
   "pygments_lexer": "ipython3",
   "version": "3.7.1"
  }
 },
 "nbformat": 4,
 "nbformat_minor": 2
}
