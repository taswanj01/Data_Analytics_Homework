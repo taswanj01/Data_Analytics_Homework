{
 "cells": [
  {
   "cell_type": "code",
   "execution_count": 2,
   "metadata": {},
   "outputs": [],
   "source": [
    "# Import Dependencies\n",
    "import matplotlib.pyplot as plt\n",
    "import numpy as np\n",
    "import pandas as pd"
   ]
  },
  {
   "cell_type": "code",
   "execution_count": 29,
   "metadata": {},
   "outputs": [
    {
     "data": {
      "text/html": [
       "<div>\n",
       "<style scoped>\n",
       "    .dataframe tbody tr th:only-of-type {\n",
       "        vertical-align: middle;\n",
       "    }\n",
       "\n",
       "    .dataframe tbody tr th {\n",
       "        vertical-align: top;\n",
       "    }\n",
       "\n",
       "    .dataframe thead th {\n",
       "        text-align: right;\n",
       "    }\n",
       "</style>\n",
       "<table border=\"1\" class=\"dataframe\">\n",
       "  <thead>\n",
       "    <tr style=\"text-align: right;\">\n",
       "      <th></th>\n",
       "      <th>city</th>\n",
       "      <th>date</th>\n",
       "      <th>fare</th>\n",
       "      <th>ride_id</th>\n",
       "      <th>driver_count</th>\n",
       "      <th>type</th>\n",
       "    </tr>\n",
       "  </thead>\n",
       "  <tbody>\n",
       "    <tr>\n",
       "      <th>0</th>\n",
       "      <td>Lake Jonathanshire</td>\n",
       "      <td>2018-01-14 10:14:22</td>\n",
       "      <td>13.83</td>\n",
       "      <td>5739410935873</td>\n",
       "      <td>5</td>\n",
       "      <td>Urban</td>\n",
       "    </tr>\n",
       "    <tr>\n",
       "      <th>1</th>\n",
       "      <td>Lake Jonathanshire</td>\n",
       "      <td>2018-04-07 20:51:11</td>\n",
       "      <td>31.25</td>\n",
       "      <td>4441251834598</td>\n",
       "      <td>5</td>\n",
       "      <td>Urban</td>\n",
       "    </tr>\n",
       "    <tr>\n",
       "      <th>2</th>\n",
       "      <td>Lake Jonathanshire</td>\n",
       "      <td>2018-03-09 23:45:55</td>\n",
       "      <td>19.89</td>\n",
       "      <td>2389495660448</td>\n",
       "      <td>5</td>\n",
       "      <td>Urban</td>\n",
       "    </tr>\n",
       "    <tr>\n",
       "      <th>3</th>\n",
       "      <td>Lake Jonathanshire</td>\n",
       "      <td>2018-04-07 18:09:21</td>\n",
       "      <td>24.28</td>\n",
       "      <td>7796805191168</td>\n",
       "      <td>5</td>\n",
       "      <td>Urban</td>\n",
       "    </tr>\n",
       "    <tr>\n",
       "      <th>4</th>\n",
       "      <td>Lake Jonathanshire</td>\n",
       "      <td>2018-01-02 14:14:50</td>\n",
       "      <td>13.89</td>\n",
       "      <td>424254840012</td>\n",
       "      <td>5</td>\n",
       "      <td>Urban</td>\n",
       "    </tr>\n",
       "  </tbody>\n",
       "</table>\n",
       "</div>"
      ],
      "text/plain": [
       "                 city                 date   fare        ride_id  \\\n",
       "0  Lake Jonathanshire  2018-01-14 10:14:22  13.83  5739410935873   \n",
       "1  Lake Jonathanshire  2018-04-07 20:51:11  31.25  4441251834598   \n",
       "2  Lake Jonathanshire  2018-03-09 23:45:55  19.89  2389495660448   \n",
       "3  Lake Jonathanshire  2018-04-07 18:09:21  24.28  7796805191168   \n",
       "4  Lake Jonathanshire  2018-01-02 14:14:50  13.89   424254840012   \n",
       "\n",
       "   driver_count   type  \n",
       "0             5  Urban  \n",
       "1             5  Urban  \n",
       "2             5  Urban  \n",
       "3             5  Urban  \n",
       "4             5  Urban  "
      ]
     },
     "execution_count": 29,
     "metadata": {},
     "output_type": "execute_result"
    }
   ],
   "source": [
    "city_df = pd.read_csv(\"../Resources/city_data.csv\")\n",
    "ride_df = pd.read_csv(\"../Resources/ride_data.csv\")"
   ]
  },
  {
   "cell_type": "code",
   "execution_count": 62,
   "metadata": {},
   "outputs": [],
   "source": [
    "#Merge original data\n",
    "city_ride_df = ride_df.merge(city_df, how='outer', on='city')\n",
    "city_ride_df.head()\n",
    "\n",
    "#average fare per city\n",
    "avg_fare_per_city = round(city_ride_df.groupby(['type', 'city'])['fare'].mean()).reset_index()\n",
    "total_avg_urban_fare = avg_fare_per_city['type'] == 'Urban'\n",
    "avg_urban_fares = avg_fare_per_city.loc[total_avg_urban_fare]\n",
    "#avg_urban_fares['fare']\n",
    "\n",
    "\n",
    "\n",
    "\n",
    "total_rides_per_city = city_ride_df.groupby(['type', 'city'])['ride_id'].count().reset_index()\n",
    "total_urban_rides = total_rides_per_city['type'] == 'Urban'\n",
    "urban_rides = total_rides_per_city.loc[total_urban_rides]\n",
    "#urban_rides['ride_id']\n",
    "total_suburban_rides = total_rides_per_city['type'] == 'Suburban'\n",
    "suburban_rides = total_rides_per_city.loc[total_suburban_rides]\n",
    "#suburban_rides['ride_id']\n",
    "total_rural_rides = total_rides_per_city['type'] == 'Rural'\n",
    "rural_rides = total_rides_per_city.loc[total_rural_rides]\n",
    "#rural_rides['ride_id']\n",
    "\n",
    "\n",
    "\n",
    "\n",
    "drivers_per_city = city_ride_df.groupby(['type', 'city'])['driver_count'].sum().reset_index()\n",
    "#total_rides_per_city.loc['fare_id'] == 'urban'\n",
    "\n",
    "\n",
    "# # ----------------------------------------------------------------------------------------------------\n",
    "# #Make frames of the needed data\n",
    "\n",
    "# #Frame of average fare per city\n",
    "# avg_fare_per_city = round(city_ride_df.groupby(['type', 'city'])['fare'].mean()).reset_index()\n",
    "# avg_fare_per_city.set_index('city', inplace=True)\n",
    "# avg_fare_per_city.rename(columns={'fare': 'Average fare ($)'}, inplace=True)\n",
    "# avg_fare_per_city.drop(columns='type', inplace=True)\n",
    "\n",
    "# #Frame of total rides per city\n",
    "# total_rides_per_city = city_ride_df.groupby(['type', 'city'])['ride_id'].count().reset_index()\n",
    "# total_rides_per_city.set_index('city', inplace=True)\n",
    "# total_rides_per_city.rename(columns={'ride_id': 'Total Number of Rides (Per City)'}, inplace=True)\n",
    "# total_rides_per_city.drop(columns='type', inplace=True)\n",
    "\n",
    "# #Frame of driver count per city\n",
    "# driver_count_per_city = city_ride_df.groupby(['type', 'city'])['driver_count'].min().reset_index()\n",
    "# driver_count_per_city.set_index('city', inplace=True)\n",
    "# driver_count_per_city.rename(columns={'driver_count': 'driver count'}, inplace=True)\n",
    "\n",
    "# #Merge stats we need into one frame\n",
    "# city_ride_merged = driver_count_per_city.merge(total_rides_per_city, on='city').merge(avg_fare_per_city, on='city')\n",
    "# city_ride_merged.reset_index()\n",
    "\n",
    "# #separate by city type so they can be plotted easily\n",
    "# urban_df = city_ride_merged[city_ride_merged.type == 'Urban']\n",
    "# suburban_df = city_ride_merged[city_ride_merged.type == 'Suburban']\n",
    "# rural_df = city_ride_merged[city_ride_merged.type == 'Rural']\n"
   ]
  },
  {
   "cell_type": "markdown",
   "metadata": {},
   "source": [
    "##  Bubble Plot of Ride Sharing Data"
   ]
  },
  {
   "cell_type": "code",
   "execution_count": 63,
   "metadata": {
    "scrolled": true
   },
   "outputs": [
    {
     "data": {
      "image/png": "[encoded data removed]",
      "text/plain": [
       "<Figure size 432x288 with 1 Axes>"
      ]
     },
     "metadata": {
      "needs_background": "light"
     },
     "output_type": "display_data"
    }
   ],
   "source": [
    "\n",
    "\n",
    "s=urban_df['driver count']*12, \n",
    "\n",
    "# ---------------------------------------------------------------------------------------\n",
    "# #Plot our frames to a bubble chart\n",
    "urban_plot = plt.scatter(urban_rides['ride_id'], avg_urban_fares['fare'], \\\n",
    "             marker='o', color='Coral', linewidths=0.4, edgecolors='black', alpha=0.8, label='Urban')\n",
    "\n",
    "# suburban_plot = plt.scatter(suburban_df['Total Number of Rides (Per City)'], suburban_df['Average fare ($)'], s=suburban_df['driver count']*12, \\\n",
    "#             marker='o', color='SkyBlue', linewidths=0.4, edgecolors='black',alpha=0.8, label='Suburban')\n",
    "\n",
    "# rural_plot = plt.scatter(rural_df['Total Number of Rides (Per City)'], rural_df['Average fare ($)'], s=rural_df['driver count']*12, \\\n",
    "#             marker='o', color='Gold', linewidths=0.4, edgecolors='black',alpha=0.8, label='Rural')\n",
    "\n",
    "# plt.title('Pyber Ride Sharing Data 2016', fontsize=16)\n",
    "# plt.xlabel('Total Number of Rides (Per City)', fontsize=14)\n",
    "# plt.ylabel('Average fare ($)', fontsize=13)\n",
    "# lgd = plt.legend(handles=[urban_plot, suburban_plot, rural_plot], loc=\"best\", title='City Type', fontsize=11)\n",
    "# lgd.legendHandles[0]._sizes = [50]\n",
    "# lgd.legendHandles[1]._sizes = [50]\n",
    "# lgd.legendHandles[2]._sizes = [50]\n",
    "# plt.text(42, 35, 'Note:', fontsize=13)\n",
    "# plt.text(42, 33, 'Cirle size correlates with driver count per city', fontsize=13)\n",
    "# plt.grid(alpha=0.5)\n",
    "\n",
    "# plt.savefig('Pyber_bubble_chart.jpeg', bbox_inches='tight')\n",
    "plt.show()"
   ]
  },
  {
   "cell_type": "markdown",
   "metadata": {},
   "source": [
    "##  Total Fares by City Type"
   ]
  },
  {
   "cell_type": "code",
   "execution_count": 6,
   "metadata": {},
   "outputs": [],
   "source": [
    "#Calculate total fares per city type for our py...excuse me, pie chart\n",
    "total_fare_per_city = round(city_ride_df.groupby('type')['fare'].sum()).reset_index()"
   ]
  },
  {
   "cell_type": "code",
   "execution_count": 7,
   "metadata": {},
   "outputs": [
    {
     "data": {
      "image/png": "[encoded data removed]",
      "text/plain": [
       "<Figure size 504x360 with 1 Axes>"
      ]
     },
     "metadata": {},
     "output_type": "display_data"
    }
   ],
   "source": [
    "#Build pie chart, save figure and show it. Charting with the pandas method won't let me get rid of the legend.\n",
    "\n",
    "plt.figure(figsize=(7, 5))\n",
    "city_fares = plt.pie(total_fare_per_city['fare'], labels=total_fare_per_city['type'], colors=['Gold','SkyBlue','Coral'], \\\n",
    "        startangle=150, shadow=True, autopct=\"%1.1f%%\",explode=(0,0,0.1,), textprops={'fontsize': 15})\n",
    "\n",
    "plt.title('% of Total Fares by City Type ', fontsize=17)\n",
    "plt.axis('auto')\n",
    "plt.savefig('percentage_of_total_fares_by_city_type.jpeg')\n",
    "plt.show()"
   ]
  },
  {
   "cell_type": "code",
   "execution_count": 8,
   "metadata": {},
   "outputs": [
    {
     "ename": "NameError",
     "evalue": "name 'city_ride_merged' is not defined",
     "output_type": "error",
     "traceback": [
      "\u001b[1;31m---------------------------------------------------------------------------\u001b[0m",
      "\u001b[1;31mNameError\u001b[0m                                 Traceback (most recent call last)",
      "\u001b[1;32m<ipython-input-8-36a0371108f9>\u001b[0m in \u001b[0;36m<module>\u001b[1;34m\u001b[0m\n\u001b[0;32m      1\u001b[0m \u001b[1;31m##Calculate total rides per city type for the next pie chart\u001b[0m\u001b[1;33m\u001b[0m\u001b[1;33m\u001b[0m\u001b[1;33m\u001b[0m\u001b[0m\n\u001b[1;32m----> 2\u001b[1;33m \u001b[0mtotal_rides_per_city\u001b[0m \u001b[1;33m=\u001b[0m \u001b[0mround\u001b[0m\u001b[1;33m(\u001b[0m\u001b[0mcity_ride_merged\u001b[0m\u001b[1;33m.\u001b[0m\u001b[0mgroupby\u001b[0m\u001b[1;33m(\u001b[0m\u001b[1;34m'type'\u001b[0m\u001b[1;33m)\u001b[0m\u001b[1;33m[\u001b[0m\u001b[1;34m'Total Number of Rides (Per City)'\u001b[0m\u001b[1;33m]\u001b[0m\u001b[1;33m.\u001b[0m\u001b[0msum\u001b[0m\u001b[1;33m(\u001b[0m\u001b[1;33m)\u001b[0m\u001b[1;33m)\u001b[0m\u001b[1;33m.\u001b[0m\u001b[0mreset_index\u001b[0m\u001b[1;33m(\u001b[0m\u001b[1;33m)\u001b[0m\u001b[1;33m\u001b[0m\u001b[1;33m\u001b[0m\u001b[0m\n\u001b[0m",
      "\u001b[1;31mNameError\u001b[0m: name 'city_ride_merged' is not defined"
     ]
    }
   ],
   "source": [
    "##Calculate total rides per city type for the next pie chart\n",
    "total_rides_per_city = round(city_ride_merged.groupby('type')['Total Number of Rides (Per City)'].sum()).reset_index()"
   ]
  },
  {
   "cell_type": "markdown",
   "metadata": {},
   "source": [
    "##  Total Rides by City Type"
   ]
  },
  {
   "cell_type": "code",
   "execution_count": null,
   "metadata": {},
   "outputs": [],
   "source": [
    "#Build pie chart, save figure and show it.\n",
    "plt.figure(figsize=(7, 5))\n",
    "plt.pie(total_rides_per_city['Total Number of Rides (Per City)'], labels=total_rides_per_city['type'], colors=['Gold','SkyBlue','Coral'], \\\n",
    "        startangle=150, shadow=True, autopct=\"%1.1f%%\",explode=(0,0,0.1,), textprops={'fontsize': 15})\n",
    "\n",
    "plt.title('% of Total Rides by City Type ', fontsize=17)\n",
    "plt.axis('auto')\n",
    "plt.savefig('percentage_of_total_rides_by_city_type.jpeg')\n",
    "plt.show()"
   ]
  },
  {
   "cell_type": "code",
   "execution_count": null,
   "metadata": {},
   "outputs": [],
   "source": [
    "##Calculate total drivers per city type for the next pie chart\n",
    "total_drivers_per_city = round(city_ride_merged.groupby('type')['driver count'].sum()).reset_index()"
   ]
  },
  {
   "cell_type": "markdown",
   "metadata": {},
   "source": [
    "## ##  Total Drivers by City Type"
   ]
  },
  {
   "cell_type": "code",
   "execution_count": null,
   "metadata": {},
   "outputs": [],
   "source": [
    "#Build pie chart, save figure and show it.\n",
    "plt.figure(figsize=(7, 5))\n",
    "plt.pie(total_drivers_per_city['driver count'], labels=total_rides_per_city['type'], colors=['Gold','SkyBlue','Coral'], \\\n",
    "        startangle=150, shadow=True, autopct=\"%1.1f%%\",explode=(0,0,0.1,), textprops={'fontsize': 15})\n",
    "\n",
    "plt.title('% of Total Drivers by City Type ', fontsize=17)\n",
    "plt.axis('auto')\n",
    "plt.savefig('percentage_of_total_drivers_by_city_type.jpeg')\n",
    "plt.show()"
   ]
  },
  {
   "cell_type": "markdown",
   "metadata": {},
   "source": [
    "### Notes: 3 observable trends\n",
    ">- The drivers in urban cities noticeably get lower fares on average but they pick up more passengers and they also have\n",
    "   more drivers to contend with for pickups.<br>\n",
    "<br>\n",
    ">- Drivers in rural cities generally get much higher fares and have less drivers to contend with but there aren't very\n",
    "   many rides to pick up.<br>\n",
    "<br>\n",
    ">- I would say it's safe to conclude that in general, drivers are more profitable that drive in urban cities over both rural\n",
    "   and suburban cities.\n"
   ]
  }
 ],
 "metadata": {
  "kernelspec": {
   "display_name": "Python 3",
   "language": "python",
   "name": "python3"
  },
  "language_info": {
   "codemirror_mode": {
    "name": "ipython",
    "version": 3
   },
   "file_extension": ".py",
   "mimetype": "text/x-python",
   "name": "python",
   "nbconvert_exporter": "python",
   "pygments_lexer": "ipython3",
   "version": "3.7.1"
  }
 },
 "nbformat": 4,
 "nbformat_minor": 2
}
