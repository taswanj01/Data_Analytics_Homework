{
 "cells": [
  {
   "cell_type": "code",
   "execution_count": 2,
   "metadata": {},
   "outputs": [],
   "source": [
    "# Import Dependencies\n",
    "import matplotlib.pyplot as plt\n",
    "import numpy as np\n",
    "import pandas as pd"
   ]
  },
  {
   "cell_type": "code",
   "execution_count": 6,
   "metadata": {},
   "outputs": [],
   "source": [
    "city_df = pd.read_csv(\"../Resources/city_data.csv\")\n",
    "ride_df = pd.read_csv(\"../Resources/ride_data.csv\")"
   ]
  },
  {
   "cell_type": "code",
   "execution_count": 120,
   "metadata": {},
   "outputs": [
    {
     "data": {
      "text/html": [
       "<div>\n",
       "<style scoped>\n",
       "    .dataframe tbody tr th:only-of-type {\n",
       "        vertical-align: middle;\n",
       "    }\n",
       "\n",
       "    .dataframe tbody tr th {\n",
       "        vertical-align: top;\n",
       "    }\n",
       "\n",
       "    .dataframe thead th {\n",
       "        text-align: right;\n",
       "    }\n",
       "</style>\n",
       "<table border=\"1\" class=\"dataframe\">\n",
       "  <thead>\n",
       "    <tr style=\"text-align: right;\">\n",
       "      <th></th>\n",
       "      <th>type</th>\n",
       "      <th>driver count</th>\n",
       "      <th>Total Number of Rides (Per City)</th>\n",
       "      <th>Average fare ($)</th>\n",
       "    </tr>\n",
       "    <tr>\n",
       "      <th>city</th>\n",
       "      <th></th>\n",
       "      <th></th>\n",
       "      <th></th>\n",
       "      <th></th>\n",
       "    </tr>\n",
       "  </thead>\n",
       "  <tbody>\n",
       "    <tr>\n",
       "      <th>Bradshawfurt</th>\n",
       "      <td>Rural</td>\n",
       "      <td>7</td>\n",
       "      <td>10</td>\n",
       "      <td>40.0</td>\n",
       "    </tr>\n",
       "    <tr>\n",
       "      <th>Garzaport</th>\n",
       "      <td>Rural</td>\n",
       "      <td>7</td>\n",
       "      <td>3</td>\n",
       "      <td>24.0</td>\n",
       "    </tr>\n",
       "    <tr>\n",
       "      <th>Harringtonfort</th>\n",
       "      <td>Rural</td>\n",
       "      <td>4</td>\n",
       "      <td>6</td>\n",
       "      <td>33.0</td>\n",
       "    </tr>\n",
       "    <tr>\n",
       "      <th>Jessicaport</th>\n",
       "      <td>Rural</td>\n",
       "      <td>1</td>\n",
       "      <td>6</td>\n",
       "      <td>36.0</td>\n",
       "    </tr>\n",
       "    <tr>\n",
       "      <th>Lake Jamie</th>\n",
       "      <td>Rural</td>\n",
       "      <td>4</td>\n",
       "      <td>6</td>\n",
       "      <td>34.0</td>\n",
       "    </tr>\n",
       "  </tbody>\n",
       "</table>\n",
       "</div>"
      ],
      "text/plain": [
       "                 type  driver count  Total Number of Rides (Per City)  \\\n",
       "city                                                                    \n",
       "Bradshawfurt    Rural             7                                10   \n",
       "Garzaport       Rural             7                                 3   \n",
       "Harringtonfort  Rural             4                                 6   \n",
       "Jessicaport     Rural             1                                 6   \n",
       "Lake Jamie      Rural             4                                 6   \n",
       "\n",
       "                Average fare ($)  \n",
       "city                              \n",
       "Bradshawfurt                40.0  \n",
       "Garzaport                   24.0  \n",
       "Harringtonfort              33.0  \n",
       "Jessicaport                 36.0  \n",
       "Lake Jamie                  34.0  "
      ]
     },
     "execution_count": 120,
     "metadata": {},
     "output_type": "execute_result"
    }
   ],
   "source": [
    "city_ride_df = ride_df.merge(city_df, how='outer', on='city')\n",
    "\n",
    "#Make frames of the needed data\n",
    "avg_fare_per_city = round(city_ride_df.groupby(['type', 'city'])['fare'].mean()).reset_index()\n",
    "avg_fare_per_city.set_index('city', inplace=True)\n",
    "avg_fare_per_city.rename(columns={'fare': 'Average fare ($)'}, inplace=True)\n",
    "avg_fare_per_city.drop(columns='type', inplace=True)\n",
    "\n",
    "total_rides_per_city = city_ride_df.groupby(['type', 'city'])['ride_id'].count().reset_index()\n",
    "total_rides_per_city.set_index('city', inplace=True)\n",
    "total_rides_per_city.rename(columns={'ride_id': 'Total Number of Rides (Per City)'}, inplace=True)\n",
    "total_rides_per_city.drop(columns='type', inplace=True)\n",
    "\n",
    "driver_count_per_city = city_ride_df.groupby(['type', 'city'])['driver_count'].min().reset_index()\n",
    "driver_count_per_city.set_index('city', inplace=True)\n",
    "driver_count_per_city.rename(columns={'driver_count': 'driver count'}, inplace=True)\n",
    "\n",
    "#Merge stats we need into one frame\n",
    "city_ride_merged = driver_count_per_city.merge(total_rides_per_city, on='city').merge(avg_fare_per_city, on='city')\n",
    "city_ride_merged.reset_index()\n",
    "\n",
    "#separate by city type so they can be plotted easily\n",
    "urban_df = city_ride_merged[city_ride_merged.type == 'Urban']\n",
    "suburban_df = city_ride_merged[city_ride_merged.type == 'Suburban']\n",
    "rural_df = city_ride_merged[city_ride_merged.type == 'Rural']\n",
    "city_ride_merged.head()"
   ]
  },
  {
   "cell_type": "code",
   "execution_count": 121,
   "metadata": {},
   "outputs": [
    {
     "data": {
      "image/png": "[encoded data removed]",
      "text/plain": [
       "<Figure size 432x288 with 1 Axes>"
      ]
     },
     "metadata": {
      "needs_background": "light"
     },
     "output_type": "display_data"
    }
   ],
   "source": [
    "#Plot our frames to a bubble chart\n",
    "#city_ride_merged_plot = city_ride_merged.plot(kind='scatter', x='Total Number of Rides (Per City)', y=['Average fare ($)'], \\\n",
    " #                             c='Gold', marker='o', edgecolors= \"black\")\n",
    "\n",
    "\n"
   ]
  },
  {
   "cell_type": "code",
   "execution_count": null,
   "metadata": {},
   "outputs": [],
   "source": []
  }
 ],
 "metadata": {
  "kernelspec": {
   "display_name": "Python 3",
   "language": "python",
   "name": "python3"
  },
  "language_info": {
   "codemirror_mode": {
    "name": "ipython",
    "version": 3
   },
   "file_extension": ".py",
   "mimetype": "text/x-python",
   "name": "python",
   "nbconvert_exporter": "python",
   "pygments_lexer": "ipython3",
   "version": "3.7.1"
  }
 },
 "nbformat": 4,
 "nbformat_minor": 2
}
