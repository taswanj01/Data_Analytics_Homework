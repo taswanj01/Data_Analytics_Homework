{
 "cells": [
  {
   "cell_type": "code",
   "execution_count": 2,
   "metadata": {},
   "outputs": [],
   "source": [
    "# Import Dependencies\n",
    "import matplotlib.pyplot as plt\n",
    "import numpy as np\n",
    "import pandas as pd"
   ]
  },
  {
   "cell_type": "code",
   "execution_count": 6,
   "metadata": {},
   "outputs": [],
   "source": [
    "city_df = pd.read_csv(\"../Resources/city_data.csv\")\n",
    "ride_df = pd.read_csv(\"../Resources/ride_data.csv\")"
   ]
  },
  {
   "cell_type": "code",
   "execution_count": 93,
   "metadata": {},
   "outputs": [],
   "source": [
    "city_ride_df = ride_df.merge(city_df, how='outer', on='city')\n",
    "\n",
    "#Make frames of the needed data\n",
    "avg_fare_per_city = round(city_ride_df.groupby(['type', 'city'])['fare'].mean()).reset_index()\n",
    "avg_fare_per_city.set_index('city', inplace=True)\n",
    "avg_fare_per_city.rename(columns={'fare': 'Average fare ($)'}, inplace=True)\n",
    "avg_fare_per_city.drop(columns='type', inplace=True)\n",
    "\n",
    "total_rides_per_city = city_ride_df.groupby(['type', 'city'])['ride_id'].count().reset_index()\n",
    "total_rides_per_city.set_index('city', inplace=True)\n",
    "total_rides_per_city.rename(columns={'ride_id': 'Total Number of Rides (Per City)'}, inplace=True)\n",
    "total_rides_per_city.drop(columns='type', inplace=True)\n",
    "\n",
    "driver_count_per_city = city_ride_df.groupby(['type', 'city'])['driver_count'].min().reset_index()\n",
    "driver_count_per_city.set_index('city', inplace=True)\n",
    "driver_count_per_city.rename(columns={'driver_count': 'driver count'}, inplace=True)\n",
    "\n",
    "#Merge stats we need into one frame\n",
    "city_ride_merged = driver_count_per_city.merge(total_rides_per_city, on='city').merge(avg_fare_per_city, on='city')\n",
    "city_ride_merged.reset_index()\n",
    "\n",
    "#separate by city type so they can be plotted easily\n",
    "urban = city_ride_merged[city_ride_merged.type == 'Urban']\n",
    "suburban = city_ride_merged[city_ride_merged.type == 'Suburban']\n",
    "rural = city_ride_merged[city_ride_merged.type == 'Rural']"
   ]
  },
  {
   "cell_type": "code",
   "execution_count": null,
   "metadata": {},
   "outputs": [],
   "source": []
  },
  {
   "cell_type": "code",
   "execution_count": null,
   "metadata": {},
   "outputs": [],
   "source": []
  }
 ],
 "metadata": {
  "kernelspec": {
   "display_name": "Python 3",
   "language": "python",
   "name": "python3"
  },
  "language_info": {
   "codemirror_mode": {
    "name": "ipython",
    "version": 3
   },
   "file_extension": ".py",
   "mimetype": "text/x-python",
   "name": "python",
   "nbconvert_exporter": "python",
   "pygments_lexer": "ipython3",
   "version": "3.7.1"
  }
 },
 "nbformat": 4,
 "nbformat_minor": 2
}
