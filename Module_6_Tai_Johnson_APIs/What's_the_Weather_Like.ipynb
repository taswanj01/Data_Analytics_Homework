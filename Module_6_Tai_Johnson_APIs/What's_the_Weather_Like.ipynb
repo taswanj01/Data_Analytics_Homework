{
 "cells": [
  {
   "cell_type": "code",
   "execution_count": 70,
   "metadata": {},
   "outputs": [
    {
     "name": "stdout",
     "output_type": "stream",
     "text": [
      "Alofi\n"
     ]
    }
   ],
   "source": [
    "#Import dependencies\n",
    "import requests\n",
    "import json\n",
    "import numpy as np\n",
    "from config import api_key\n",
    "from pprint import pprint\n",
    "from citipy import citipy\n",
    "\n",
    "# rand_lat = np.random.randint(-90, 90, 500)\n",
    "# rand_long = np.random.randint(-180, 180, 500)\n",
    "# rand_coords = list(zip(rand_lat, rand_long))\n",
    "# city = citipy.nearest_city(rand_lat[0], rand_long[0])\n",
    "# print(rand_coords)\n",
    "# print(city.city_name)\n",
    "\n",
    "url = \"http://api.openweathermap.org/data/2.5/box/city?\"\n",
    "\n",
    "#City code\n",
    "bbox_nsa = '-175,-60,-30,85,6'    #North and South America bounding box [lon-left,lat-bottom,lon-right,lat-top,zoom]\n",
    "bbox_aea = '-15,-35,175,85,5'    #Africa, Europe, Asia bounding box [lon-left,lat-bottom,lon-right,lat-top,zoom]\n",
    "\n",
    "# Build url\n",
    "nsa_query_url = f'{url}bbox={bbox_nsa}&APPID={api_key}'\n",
    "nsa_search_result = requests.get(nsa_query_url)\n",
    "nsa_search_result = nsa_search_result.json()\n",
    "\n",
    "aea_query_url = f'{url}bbox={bbox_aea}&APPID={api_key}'\n",
    "aea_search_result = requests.get(aea_query_url)\n",
    "aea_search_result = aea_search_result.json()\n",
    "\n",
    "#print(nsa_search_result['list'][0]['name'])\n",
    "cities_list = []\n",
    "for x in nsa_search_result['list']:\n",
    "    cities_list.append(nsa_search_result['list'][x]['name'])\n"
   ]
  },
  {
   "cell_type": "code",
   "execution_count": null,
   "metadata": {},
   "outputs": [],
   "source": []
  }
 ],
 "metadata": {
  "kernelspec": {
   "display_name": "Python 3",
   "language": "python",
   "name": "python3"
  },
  "language_info": {
   "codemirror_mode": {
    "name": "ipython",
    "version": 3
   },
   "file_extension": ".py",
   "mimetype": "text/x-python",
   "name": "python",
   "nbconvert_exporter": "python",
   "pygments_lexer": "ipython3",
   "version": "3.7.1"
  }
 },
 "nbformat": 4,
 "nbformat_minor": 2
}
