{
 "cells": [
  {
   "cell_type": "code",
   "execution_count": 1,
   "metadata": {},
   "outputs": [],
   "source": [
    "#Import dependencies\n",
    "import csv\n",
    "import json\n",
    "import matplotlib.pyplot as plt\n",
    "import requests\n",
    "import pandas as pd\n",
    "import numpy as np\n",
    "from config import api_key\n",
    "from pprint import pprint\n",
    "from citipy import citipy\n",
    "\n",
    "#Base URL for openweathermap api\n",
    "url = \"http://api.openweathermap.org/data/2.5/find?q=\"\n",
    "\n",
    "#Output CSV\n",
    "# Output File (CSV)\n",
    "output_data_file = \"output_data/cities.csv\"\n",
    "\n",
    "# Range of latitudes and longitudes\n",
    "lat_range = (-90, 90)\n",
    "lng_range = (-180, 180)"
   ]
  },
  {
   "cell_type": "markdown",
   "metadata": {},
   "source": [
    "## Generate Cities List"
   ]
  },
  {
   "cell_type": "code",
   "execution_count": 2,
   "metadata": {},
   "outputs": [
    {
     "name": "stdout",
     "output_type": "stream",
     "text": [
      "635\n"
     ]
    }
   ],
   "source": [
    "# List for holding lat_lngs and cities\n",
    "lat_lngs = []\n",
    "cities = []\n",
    "\n",
    "# Create a set of random lat and lng combinations\n",
    "lats = np.random.uniform(low=-90.000, high=90.000, size=1500)\n",
    "lngs = np.random.uniform(low=-180.000, high=180.000, size=1500)\n",
    "lat_lngs = zip(lats, lngs)\n",
    "\n",
    "# Identify nearest city for each lat, lng combination\n",
    "for lat_lng in lat_lngs:\n",
    "    city = citipy.nearest_city(lat_lng[0], lat_lng[1]).city_name\n",
    "    \n",
    "    # If the city is unique, then add it to a our cities list\n",
    "    if city not in cities:\n",
    "        cities.append(city)\n",
    "\n",
    "# Print the city count to confirm sufficient count\n",
    "print(len(cities))"
   ]
  },
  {
   "cell_type": "markdown",
   "metadata": {},
   "source": [
    "## Perform API calls on each city\n",
    ">- Perform weather check on each city\n",
    ">- Print each city as it's being processed. City name and number"
   ]
  },
  {
   "cell_type": "code",
   "execution_count": null,
   "metadata": {},
   "outputs": [
    {
     "name": "stdout",
     "output_type": "stream",
     "text": [
      "Beginning Data Retrieval\n",
      "---------------------------\n",
      "\n",
      "City not found. Skipping...\n",
      "City not found. Skipping...\n",
      "Processing Record 1 of 635 | Castro\n",
      "Processing Record 2 of 635 | Thompson\n",
      "Processing Record 3 of 635 | Jamestown\n",
      "Processing Record 4 of 635 | Puerto Ayora\n",
      "Processing Record 5 of 635 | Cabo San Lucas\n",
      "Processing Record 6 of 635 | Gat\n",
      "Processing Record 7 of 635 | Tura\n",
      "Processing Record 8 of 635 | Youghal\n",
      "Processing Record 9 of 635 | Nargana\n",
      "Processing Record 10 of 635 | Shingu\n",
      "Processing Record 11 of 635 | Khandyga\n",
      "Processing Record 12 of 635 | Rikitea\n",
      "Processing Record 13 of 635 | Butaritari\n",
      "Processing Record 14 of 635 | Ushuaia\n",
      "Processing Record 15 of 635 | Barrow\n",
      "Processing Record 16 of 635 | Nisia Floresta\n",
      "Processing Record 17 of 635 | Ankang\n",
      "Processing Record 18 of 635 | Bredasdorp\n",
      "Processing Record 19 of 635 | Busselton\n",
      "Processing Record 20 of 635 | Sao Joao do Piaui\n",
      "Processing Record 21 of 635 | Lebu\n",
      "Processing Record 22 of 635 | Karabulak\n",
      "Processing Record 23 of 635 | Punta Arenas\n",
      "Processing Record 24 of 635 | Hermanus\n",
      "Processing Record 25 of 635 | Alta Floresta\n",
      "Processing Record 26 of 635 | Necochea\n",
      "Processing Record 27 of 635 | Pimentel\n",
      "Processing Record 28 of 635 | Hilo\n",
      "Processing Record 29 of 635 | Tarko-Sale\n",
      "Processing Record 30 of 635 | Bloomingdale\n",
      "Processing Record 31 of 635 | Norman Wells\n",
      "Processing Record 32 of 635 | Mingshui\n",
      "City not found. Skipping...\n",
      "Processing Record 33 of 635 | Beyneu\n",
      "Processing Record 34 of 635 | Sitka\n",
      "Processing Record 35 of 635 | Arraial do Cabo\n",
      "Processing Record 36 of 635 | Cape Town\n",
      "Processing Record 37 of 635 | Sabha\n",
      "Processing Record 38 of 635 | Yellowknife\n",
      "City not found. Skipping...\n",
      "Processing Record 39 of 635 | Ancud\n",
      "Processing Record 40 of 635 | Kapaa\n",
      "City not found. Skipping...\n",
      "Processing Record 41 of 635 | Vaini\n",
      "Processing Record 42 of 635 | Biak\n",
      "Processing Record 43 of 635 | Qaqortoq\n",
      "Processing Record 44 of 635 | Hobyo\n",
      "Processing Record 45 of 635 | Mahebourg\n",
      "Processing Record 46 of 635 | Shimoda\n",
      "Processing Record 47 of 635 | Severo-Kurilsk\n",
      "Processing Record 48 of 635 | Ribeira Grande\n",
      "City not found. Skipping...\n",
      "Processing Record 49 of 635 | Port Blair\n",
      "Processing Record 50 of 635 | Katherine\n",
      "Processing Record 51 of 635 | Mataura\n",
      "Processing Record 52 of 635 | Faya\n",
      "Processing Record 53 of 635 | Kodiak\n",
      "Processing Record 54 of 635 | Saint-Philippe\n",
      "City not found. Skipping...\n"
     ]
    }
   ],
   "source": [
    "n = 1                                      # City number counter\n",
    "print('Beginning Data Retrieval\\n---------------------------\\n')\n",
    "with open('output_data_cities.csv', mode='w', newline='') as output_file:\n",
    "    \n",
    "    weather_data_writer = csv.writer(output_file, dialect='excel')\n",
    "    weather_data_writer.writerow(['City', 'Cloudiness', 'Humidity', 'Lat', 'Lon', 'Temperature', 'Wind Speed'])\n",
    "    for city in cities:\n",
    "        \n",
    "        try:\n",
    "            response = requests.get(f'{url}{city.title()}&units=imperial&APPID={api_key}')\n",
    "            response_json = response.json()\n",
    "                        \n",
    "            if response_json['count'] != 0:\n",
    "                print(f'Processing Record {n} of {len(cities)} | {response_json[\"list\"][0][\"name\"]}')\n",
    "                n += 1\n",
    "                weather_data_writer.writerow([response_json['list'][0]['name'], \\\n",
    "                                           response_json['list'][0]['clouds']['all'], \\\n",
    "                                           response_json['list'][0]['main']['humidity'], \\\n",
    "                                           response_json['list'][0]['coord']['lat'], \\\n",
    "                                           response_json['list'][0]['coord']['lon'], \\\n",
    "                                           response_json['list'][0]['main']['temp'], \\\n",
    "                                           response_json['list'][0]['wind']['speed']])\n",
    "            else:\n",
    "                print('City not found. Skipping...')\n",
    "                      \n",
    "        except(NewConnectionError, ConnectionError, MaxRetryError, OSError, TimeoutError) as error:\n",
    "            print('Internet connection issues, please resolve and rerun code')          \n",
    "\n",
    "print(f'---------------------------\\nData Retrieval Complete {n - 1} cities total\\n---------------------------')"
   ]
  },
  {
   "cell_type": "markdown",
   "metadata": {},
   "source": [
    "## Convert Raw Data to DataFrame"
   ]
  },
  {
   "cell_type": "code",
   "execution_count": null,
   "metadata": {},
   "outputs": [],
   "source": [
    "weather_frame = pd.read_csv('output_data_cities.csv')\n",
    "weather_frame.head()"
   ]
  },
  {
   "cell_type": "markdown",
   "metadata": {},
   "source": [
    "## Temperature vs Latitude plot"
   ]
  },
  {
   "cell_type": "code",
   "execution_count": null,
   "metadata": {
    "scrolled": true
   },
   "outputs": [],
   "source": [
    "plt.scatter(weather_frame.Lat, weather_frame.Temperature, \\\n",
    "            marker='o', color='Blue', linewidths=0.5, edgecolors='black')\n",
    "\n",
    "plt.title('Max Temperature vs City Latitude (4/3/19)', fontsize=12)\n",
    "plt.xlabel('Latitude')\n",
    "plt.ylabel('Max Temperature (F)')\n",
    "plt.grid(fillstyle='bottom', alpha=0.6)\n",
    "plt.ylim(top=110, bottom=-10)\n",
    "plt.xlim(left=-65, right=85)\n",
    "\n",
    "# plt.savefig('Pyber_bubble_chart.jpeg', bbox_inches='tight')\n",
    "plt.show()"
   ]
  },
  {
   "cell_type": "markdown",
   "metadata": {},
   "source": [
    "## Humidity vs Latitude plot"
   ]
  },
  {
   "cell_type": "code",
   "execution_count": null,
   "metadata": {},
   "outputs": [],
   "source": [
    "plt.scatter(weather_frame.Lat, weather_frame.Humidity, \\\n",
    "            marker='o', color='Blue', linewidths=0.5, edgecolors='black')\n",
    "\n",
    "plt.title('Humidity vs City Latitude (4/3/19)', fontsize=12)\n",
    "plt.xlabel('Latitude')\n",
    "plt.ylabel('Humidity (%)')\n",
    "plt.grid(fillstyle='full', alpha=0.6)\n",
    "plt.ylim(top=110, bottom=10)\n",
    "plt.xlim(left=-65, right=85)\n",
    "\n",
    "# plt.savefig('Pyber_bubble_chart.jpeg', bbox_inches='tight')\n",
    "plt.show()"
   ]
  },
  {
   "cell_type": "markdown",
   "metadata": {},
   "source": [
    "## Cloudiness vs Latitude plot"
   ]
  },
  {
   "cell_type": "code",
   "execution_count": null,
   "metadata": {},
   "outputs": [],
   "source": [
    "plt.scatter(weather_frame.Lat, weather_frame.Cloudiness, \\\n",
    "            marker='o', color='Blue', linewidths=0.3, edgecolors='black')\n",
    "\n",
    "plt.title('Cloudiness vs City Latitude (4/3/19)', fontsize=12)\n",
    "plt.xlabel('Latitude')\n",
    "plt.ylabel('Cloudiness (%)')\n",
    "plt.grid(fillstyle='full', alpha=0.6)\n",
    "plt.ylim(top=110, bottom=-10)\n",
    "plt.xlim(left=-65, right=85)\n",
    "\n",
    "# plt.savefig('Pyber_bubble_chart.jpeg', bbox_inches='tight')\n",
    "plt.show()"
   ]
  },
  {
   "cell_type": "markdown",
   "metadata": {},
   "source": [
    "## Wind Speed vs Latitude plot"
   ]
  },
  {
   "cell_type": "code",
   "execution_count": null,
   "metadata": {},
   "outputs": [],
   "source": [
    "plt.scatter(weather_frame.Lat, weather_frame['Wind Speed'], \\\n",
    "            marker='o', color='Blue', linewidths=0.3, edgecolors='black')\n",
    "\n",
    "plt.title('Wind Speed vs City Latitude (4/3/19)', fontsize=12)\n",
    "plt.xlabel('Latitude')\n",
    "plt.ylabel('Wind Speed (mph)')\n",
    "plt.grid(fillstyle='full', alpha=0.5)\n",
    "plt.ylim(top=35, bottom=-3)\n",
    "plt.xlim(left=-65, right=85)\n",
    "\n",
    "# plt.savefig('Pyber_bubble_chart.jpeg', bbox_inches='tight')\n",
    "plt.show()"
   ]
  },
  {
   "cell_type": "code",
   "execution_count": null,
   "metadata": {},
   "outputs": [],
   "source": []
  }
 ],
 "metadata": {
  "kernelspec": {
   "display_name": "Python 3",
   "language": "python",
   "name": "python3"
  },
  "language_info": {
   "codemirror_mode": {
    "name": "ipython",
    "version": 3
   },
   "file_extension": ".py",
   "mimetype": "text/x-python",
   "name": "python",
   "nbconvert_exporter": "python",
   "pygments_lexer": "ipython3",
   "version": "3.7.1"
  }
 },
 "nbformat": 4,
 "nbformat_minor": 2
}
