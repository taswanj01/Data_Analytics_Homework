{
 "cells": [
  {
   "cell_type": "code",
   "execution_count": 28,
   "metadata": {},
   "outputs": [
    {
     "name": "stdout",
     "output_type": "stream",
     "text": [
      "Duplicate Rows except first occurrence based on city column is :\n",
      "         City   Latitude         Lon   Temp  Humidity  Cloudiness  Wind\n",
      "20   San Juan -31.537500  -68.536392  63.88        71          32  0.25\n",
      "32     La Paz -16.500000  -68.150002  53.60        54          40  6.20\n",
      "128  San Jose  37.339390 -121.894958  60.89        48          90  5.10\n",
      "152    La Paz  24.166670 -110.300003  86.88        16           5  4.60\n",
      "232  San Jose   9.933330  -84.083328  74.55        53          75  9.80\n",
      "251  Kingston  17.997021  -76.793579  80.60        61          75  3.60\n",
      "294  San Juan  18.466330  -66.105721  79.12        61          40  6.20\n",
      "318    Sydney  46.135101  -60.183102  29.37        68          75  7.70\n",
      "388    Sydney -33.867851  151.207321  71.37        60          20  2.60\n",
      "398  Kingston -29.054590  167.966278  75.20        73          75  5.70\n"
     ]
    }
   ],
   "source": [
    "#Import dependencies\n",
    "import csv\n",
    "import json\n",
    "import matplotlib.pyplot as plt\n",
    "import requests\n",
    "import pandas as pd\n",
    "import numpy as np\n",
    "from config import api_key\n",
    "from pprint import pprint\n",
    "from citipy import citipy\n",
    "\n",
    "#Base URL for \n",
    "url = \"http://api.openweathermap.org/data/2.5/box/city?\"\n",
    "\n",
    "# Grab weather info on 649 cities from around the globe using OpenWeatherMaps \n",
    "# bounding box API call to do it in just two calls. It will grab info from the same cities each time.\n",
    "# ----------------------------------------------------------------------------\n",
    "\n",
    "bbox_nsa = '-175,-60,-30,85,6'    #North and South America bounding box [lon-left,lat-bottom,lon-right,lat-top,zoom]\n",
    "bbox_aea = '-15,-35,175,85,5'    #Africa, Europe, Asia bounding box [lon-left,lat-bottom,lon-right,lat-top,zoom]\n",
    "\n",
    "# Build urls\n",
    "nsa_query_url = f'{url}bbox={bbox_nsa}&units=imperial&APPID={api_key}'       # 323 cities from North and South America \n",
    "nsa_search_result = requests.get(nsa_query_url)                              # and surrounding islands\n",
    "nsa_search_result = nsa_search_result.json()\n",
    "\n",
    "aea_query_url = f'{url}bbox={bbox_aea}&units=imperial&APPID={api_key}'       # 326 cities from Africa, Europe, Asia, Australia\n",
    "aea_search_result = requests.get(aea_query_url)                              # and surrounding islands\n",
    "aea_search_result = aea_search_result.json()\n",
    "\n",
    "\n",
    "# print(json.dumps(nsa_search_result, indent=4))\n",
    "# Load city weather data into a series of lists which will be turned into \n",
    "# one dataframe from which I'll make scatter plots\n",
    "# City, Temperature(F), Humidity (%), Cloudiness (%) and Wind Speed (mph) vs. Latitude\n",
    "\n",
    "city_list, temperature_list, humidity_list, cloudiness_list, \\\n",
    "wind_speed_list, latitude_list = [],[],[],[],[],[]\n",
    "\n",
    "for x in range(len(nsa_search_result['list'])):\n",
    "    city_list.append(nsa_search_result['list'][x]['name'])\n",
    "    temperature_list.append(nsa_search_result['list'][x]['main']['temp'])\n",
    "    humidity_list.append(nsa_search_result['list'][x]['main']['humidity'])\n",
    "    cloudiness_list.append(nsa_search_result['list'][x]['clouds']['today'])\n",
    "    wind_speed_list.append(nsa_search_result['list'][x]['wind']['speed'])\n",
    "    latitude_list.append(nsa_search_result['list'][x]['coord']['Lat'])\n",
    "\n",
    "for x in range(len(aea_search_result['list'])):\n",
    "    city_list.append(aea_search_result['list'][x]['name'])\n",
    "    temperature_list.append(aea_search_result['list'][x]['main']['temp'])\n",
    "    humidity_list.append(aea_search_result['list'][x]['main']['humidity'])\n",
    "    cloudiness_list.append(aea_search_result['list'][x]['clouds']['today'])\n",
    "    wind_speed_list.append(aea_search_result['list'][x]['wind']['speed'])\n",
    "    latitude_list.append(aea_search_result['list'][x]['coord']['Lat'])\n",
    "    \n",
    "weather_frame = pd.DataFrame({\n",
    "    'City': city_list,\n",
    "    'Latitude': latitude_list,\n",
    "    'Lon': longitude_list,\n",
    "    'Temp': temperature_list,\n",
    "    'Humidity': humidity_list,\n",
    "    'Cloudiness': cloudiness_list,\n",
    "    'Wind': wind_speed_list\n",
    "})\n",
    "\n",
    "# Clean the frame for duplicate cities - The code below drops the only duplicate of \"New York\", the other city\n",
    "# names that are duplicate are two different cities that happen to have the same name.\n",
    "# ----------------------------\n",
    "# duplicateRowsDF = weather_frame[weather_frame.duplicated(subset='City', keep=False)]\n",
    "# print(\"Duplicate Rows except first occurrence based on city column is :\")\n",
    "# print(duplicateRowsDF)\n",
    "# ----------------------------\n",
    "weather_frame.drop([287], inplace=True)\n"
   ]
  },
  {
   "cell_type": "code",
   "execution_count": null,
   "metadata": {},
   "outputs": [],
   "source": [
    "# Next we'll plot our data\n",
    "\n"
   ]
  }
 ],
 "metadata": {
  "kernelspec": {
   "display_name": "Python 3",
   "language": "python",
   "name": "python3"
  },
  "language_info": {
   "codemirror_mode": {
    "name": "ipython",
    "version": 3
   },
   "file_extension": ".py",
   "mimetype": "text/x-python",
   "name": "python",
   "nbconvert_exporter": "python",
   "pygments_lexer": "ipython3",
   "version": "3.7.1"
  }
 },
 "nbformat": 4,
 "nbformat_minor": 2
}
