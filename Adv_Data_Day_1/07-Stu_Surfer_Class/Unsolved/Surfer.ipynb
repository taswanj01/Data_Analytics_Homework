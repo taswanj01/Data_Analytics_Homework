{
 "cells": [
  {
   "cell_type": "code",
   "execution_count": 12,
   "metadata": {},
   "outputs": [],
   "source": [
    "# Define the Surfer Class\n",
    "class Surfer():\n",
    "    # The constructor\n",
    "    def __init__(self, name, age, skills, favorite_beach):\n",
    "        self.name = name\n",
    "        self.age = age\n",
    "        self.skills = skills\n",
    "        self.favorite_beach = favorite_beach\n",
    "        \n",
    "    def hang_ten(self):\n",
    "        return (f'Hi, Im {self.name}, I like to shread at {self.favorite_beach} bro')\n",
    "              "
   ]
  },
  {
   "cell_type": "code",
   "execution_count": 13,
   "metadata": {},
   "outputs": [],
   "source": [
    "# Create an instance of the Surfer Class\n",
    "surfer = Surfer(name='Tai', \n",
    "             age=23,\n",
    "             skills=['swimming', 'surfing', 'chilling'],\n",
    "             favorite_beach='North Shore')"
   ]
  },
  {
   "cell_type": "raw",
   "metadata": {},
   "source": [
    "# Print the object's attributes\n",
    "print(surfer.skills)\n",
    "surfer.hang_ten()"
   ]
  },
  {
   "cell_type": "code",
   "execution_count": 14,
   "metadata": {},
   "outputs": [
    {
     "name": "stdout",
     "output_type": "stream",
     "text": [
      "What is surfers name?jack\n",
      "What is surfers age?40\n",
      "What are surfers skills?dumping, chilling, kicking it\n",
      "What is surfers favorite beach?toppers\n",
      "Hi, Im jack, I like to shread at toppers bro\n",
      "Do you want to exit? (y/n)y\n"
     ]
    }
   ],
   "source": [
    "# ----BONUS----\n",
    "# Variable to keep track of changes to while loop\n",
    "user_input = 'n'\n",
    "while user_input != 'y':\n",
    "    surfer_name = input('What is surfers name?')\n",
    "    surfer_age = input('What is surfers age?')\n",
    "    surfer_skills = input('What are surfers skills?')\n",
    "    surfer_favorite_beach = input('What is surfers favorite beach?')\n",
    "    surfer = Surfer(name=surfer_name, \n",
    "             age=surfer_age,\n",
    "             skills=surfer_skills,\n",
    "             favorite_beach=surfer_favorite_beach)\n",
    "    print(surfer.hang_ten())\n",
    "    user_input = input('Do you want to exit? (y/n)')"
   ]
  }
 ],
 "metadata": {
  "kernelspec": {
   "display_name": "Python 3",
   "language": "python",
   "name": "python3"
  },
  "language_info": {
   "codemirror_mode": {
    "name": "ipython",
    "version": 3
   },
   "file_extension": ".py",
   "mimetype": "text/x-python",
   "name": "python",
   "nbconvert_exporter": "python",
   "pygments_lexer": "ipython3",
   "version": "3.7.1"
  },
  "varInspector": {
   "cols": {
    "lenName": 16,
    "lenType": 16,
    "lenVar": 40
   },
   "kernels_config": {
    "python": {
     "delete_cmd_postfix": "",
     "delete_cmd_prefix": "del ",
     "library": "var_list.py",
     "varRefreshCmd": "print(var_dic_list())"
    },
    "r": {
     "delete_cmd_postfix": ") ",
     "delete_cmd_prefix": "rm(",
     "library": "var_list.r",
     "varRefreshCmd": "cat(var_dic_list()) "
    }
   },
   "types_to_exclude": [
    "module",
    "function",
    "builtin_function_or_method",
    "instance",
    "_Feature"
   ],
   "window_display": false
  }
 },
 "nbformat": 4,
 "nbformat_minor": 2
}
